{
 "cells": [
  {
   "cell_type": "markdown",
   "metadata": {},
   "source": [
    "# Project 1: SAT & ACT Analysis"
   ]
  },
  {
   "cell_type": "markdown",
   "metadata": {},
   "source": [
    "The first markdown cell in a notebook is a great place to provide an overview of your entire project. You will likely want to at least state your\n",
    "\n",
    "## Problem Statement"
   ]
  },
  {
   "cell_type": "markdown",
   "metadata": {},
   "source": [
    "as well as an"
   ]
  },
  {
   "cell_type": "markdown",
   "metadata": {},
   "source": [
    "## Executive Summary\n",
    "\n",
    "If you want to, it's great to use relative links to direct your audience to various sections of a notebook. **HERE'S A DEMONSTRATION WITH THE CURRENT SECTION HEADERS**:\n",
    "\n",
    "### Contents:\n",
    "- [2017 Data Import & Cleaning](#Data-Import-and-Cleaning)\n",
    "- [2018 Data Import and Cleaning](#2018-Data-Import-and-Cleaning)\n",
    "- [Exploratory Data Analysis](#Exploratory-Data-Analysis)\n",
    "- [Data Visualization](#Visualize-the-data)\n",
    "- [Descriptive and Inferential Statistics](#Descriptive-and-Inferential-Statistics)\n",
    "- [Outside Research](#Outside-Research)\n",
    "- [Conclusions and Recommendations](#Conclusions-and-Recommendations)"
   ]
  },
  {
   "cell_type": "markdown",
   "metadata": {},
   "source": [
    "**If you combine your problem statement, executive summary, data dictionary, and conclusions/recommendations, you have an amazing README.md file that quickly aligns your audience to the contents of your project.** Don't forget to cite your data sources!"
   ]
  },
  {
   "cell_type": "markdown",
   "metadata": {},
   "source": [
    "*All libraries used should be added here*"
   ]
  },
  {
   "cell_type": "code",
   "execution_count": null,
   "metadata": {},
   "outputs": [],
   "source": [
    "#Imports:\n",
    "\n",
    "import numpy as np\n",
    "import pandas as pd\n",
    "import matplotlib.pyplot as plt\n",
    "import seaborn as sns\n",
    "from sklearn import metrics\n",
    "from sklearn.linear_model import LinearRegression\n",
    "from scipy import stats\n",
    "from sklearn.model_selection import train_test_split, cross_val_score\n",
    "from sklearn.dummy import DummyRegressor"
   ]
  },
  {
   "cell_type": "markdown",
   "metadata": {},
   "source": [
    "## 2017 Data Import and Cleaning"
   ]
  },
  {
   "cell_type": "markdown",
   "metadata": {},
   "source": [
    "#### 1. Read In SAT & ACT  Data\n",
    "\n",
    "Read in the `sat_2017.csv` and `act_2017.csv` files and assign them to appropriately named pandas dataframes."
   ]
  },
  {
   "cell_type": "code",
   "execution_count": null,
   "metadata": {},
   "outputs": [],
   "source": [
    "#Code:\n",
    "df_test = pd.read_csv('datasets/test.csv')\n",
    "df_train = pd.read_csv('datasets/train.csv')"
   ]
  },
  {
   "cell_type": "markdown",
   "metadata": {},
   "source": [
    "#### 2. Display Data\n",
    "\n",
    "Print the first 10 rows of each dataframe to your jupyter notebook"
   ]
  },
  {
   "cell_type": "code",
   "execution_count": 3,
   "metadata": {},
   "outputs": [
    {
     "data": {
      "text/html": [
       "<div>\n",
       "<style scoped>\n",
       "    .dataframe tbody tr th:only-of-type {\n",
       "        vertical-align: middle;\n",
       "    }\n",
       "\n",
       "    .dataframe tbody tr th {\n",
       "        vertical-align: top;\n",
       "    }\n",
       "\n",
       "    .dataframe thead th {\n",
       "        text-align: right;\n",
       "    }\n",
       "</style>\n",
       "<table border=\"1\" class=\"dataframe\">\n",
       "  <thead>\n",
       "    <tr style=\"text-align: right;\">\n",
       "      <th></th>\n",
       "      <th>Id</th>\n",
       "      <th>PID</th>\n",
       "      <th>MS SubClass</th>\n",
       "      <th>MS Zoning</th>\n",
       "      <th>Lot Frontage</th>\n",
       "      <th>Lot Area</th>\n",
       "      <th>Street</th>\n",
       "      <th>Alley</th>\n",
       "      <th>Lot Shape</th>\n",
       "      <th>Land Contour</th>\n",
       "      <th>...</th>\n",
       "      <th>Screen Porch</th>\n",
       "      <th>Pool Area</th>\n",
       "      <th>Pool QC</th>\n",
       "      <th>Fence</th>\n",
       "      <th>Misc Feature</th>\n",
       "      <th>Misc Val</th>\n",
       "      <th>Mo Sold</th>\n",
       "      <th>Yr Sold</th>\n",
       "      <th>Sale Type</th>\n",
       "      <th>SalePrice</th>\n",
       "    </tr>\n",
       "  </thead>\n",
       "  <tbody>\n",
       "    <tr>\n",
       "      <th>0</th>\n",
       "      <td>109</td>\n",
       "      <td>533352170</td>\n",
       "      <td>60</td>\n",
       "      <td>RL</td>\n",
       "      <td>NaN</td>\n",
       "      <td>13517</td>\n",
       "      <td>Pave</td>\n",
       "      <td>NaN</td>\n",
       "      <td>IR1</td>\n",
       "      <td>Lvl</td>\n",
       "      <td>...</td>\n",
       "      <td>0</td>\n",
       "      <td>0</td>\n",
       "      <td>NaN</td>\n",
       "      <td>NaN</td>\n",
       "      <td>NaN</td>\n",
       "      <td>0</td>\n",
       "      <td>3</td>\n",
       "      <td>2010</td>\n",
       "      <td>WD</td>\n",
       "      <td>130500</td>\n",
       "    </tr>\n",
       "    <tr>\n",
       "      <th>1</th>\n",
       "      <td>544</td>\n",
       "      <td>531379050</td>\n",
       "      <td>60</td>\n",
       "      <td>RL</td>\n",
       "      <td>43.0</td>\n",
       "      <td>11492</td>\n",
       "      <td>Pave</td>\n",
       "      <td>NaN</td>\n",
       "      <td>IR1</td>\n",
       "      <td>Lvl</td>\n",
       "      <td>...</td>\n",
       "      <td>0</td>\n",
       "      <td>0</td>\n",
       "      <td>NaN</td>\n",
       "      <td>NaN</td>\n",
       "      <td>NaN</td>\n",
       "      <td>0</td>\n",
       "      <td>4</td>\n",
       "      <td>2009</td>\n",
       "      <td>WD</td>\n",
       "      <td>220000</td>\n",
       "    </tr>\n",
       "    <tr>\n",
       "      <th>2</th>\n",
       "      <td>153</td>\n",
       "      <td>535304180</td>\n",
       "      <td>20</td>\n",
       "      <td>RL</td>\n",
       "      <td>68.0</td>\n",
       "      <td>7922</td>\n",
       "      <td>Pave</td>\n",
       "      <td>NaN</td>\n",
       "      <td>Reg</td>\n",
       "      <td>Lvl</td>\n",
       "      <td>...</td>\n",
       "      <td>0</td>\n",
       "      <td>0</td>\n",
       "      <td>NaN</td>\n",
       "      <td>NaN</td>\n",
       "      <td>NaN</td>\n",
       "      <td>0</td>\n",
       "      <td>1</td>\n",
       "      <td>2010</td>\n",
       "      <td>WD</td>\n",
       "      <td>109000</td>\n",
       "    </tr>\n",
       "    <tr>\n",
       "      <th>3</th>\n",
       "      <td>318</td>\n",
       "      <td>916386060</td>\n",
       "      <td>60</td>\n",
       "      <td>RL</td>\n",
       "      <td>73.0</td>\n",
       "      <td>9802</td>\n",
       "      <td>Pave</td>\n",
       "      <td>NaN</td>\n",
       "      <td>Reg</td>\n",
       "      <td>Lvl</td>\n",
       "      <td>...</td>\n",
       "      <td>0</td>\n",
       "      <td>0</td>\n",
       "      <td>NaN</td>\n",
       "      <td>NaN</td>\n",
       "      <td>NaN</td>\n",
       "      <td>0</td>\n",
       "      <td>4</td>\n",
       "      <td>2010</td>\n",
       "      <td>WD</td>\n",
       "      <td>174000</td>\n",
       "    </tr>\n",
       "    <tr>\n",
       "      <th>4</th>\n",
       "      <td>255</td>\n",
       "      <td>906425045</td>\n",
       "      <td>50</td>\n",
       "      <td>RL</td>\n",
       "      <td>82.0</td>\n",
       "      <td>14235</td>\n",
       "      <td>Pave</td>\n",
       "      <td>NaN</td>\n",
       "      <td>IR1</td>\n",
       "      <td>Lvl</td>\n",
       "      <td>...</td>\n",
       "      <td>0</td>\n",
       "      <td>0</td>\n",
       "      <td>NaN</td>\n",
       "      <td>NaN</td>\n",
       "      <td>NaN</td>\n",
       "      <td>0</td>\n",
       "      <td>3</td>\n",
       "      <td>2010</td>\n",
       "      <td>WD</td>\n",
       "      <td>138500</td>\n",
       "    </tr>\n",
       "    <tr>\n",
       "      <th>5</th>\n",
       "      <td>138</td>\n",
       "      <td>535126040</td>\n",
       "      <td>20</td>\n",
       "      <td>RL</td>\n",
       "      <td>137.0</td>\n",
       "      <td>16492</td>\n",
       "      <td>Pave</td>\n",
       "      <td>NaN</td>\n",
       "      <td>IR1</td>\n",
       "      <td>Lvl</td>\n",
       "      <td>...</td>\n",
       "      <td>0</td>\n",
       "      <td>0</td>\n",
       "      <td>NaN</td>\n",
       "      <td>NaN</td>\n",
       "      <td>NaN</td>\n",
       "      <td>0</td>\n",
       "      <td>6</td>\n",
       "      <td>2010</td>\n",
       "      <td>WD</td>\n",
       "      <td>190000</td>\n",
       "    </tr>\n",
       "    <tr>\n",
       "      <th>6</th>\n",
       "      <td>2827</td>\n",
       "      <td>908186070</td>\n",
       "      <td>180</td>\n",
       "      <td>RM</td>\n",
       "      <td>35.0</td>\n",
       "      <td>3675</td>\n",
       "      <td>Pave</td>\n",
       "      <td>NaN</td>\n",
       "      <td>Reg</td>\n",
       "      <td>Lvl</td>\n",
       "      <td>...</td>\n",
       "      <td>0</td>\n",
       "      <td>0</td>\n",
       "      <td>NaN</td>\n",
       "      <td>NaN</td>\n",
       "      <td>NaN</td>\n",
       "      <td>0</td>\n",
       "      <td>6</td>\n",
       "      <td>2006</td>\n",
       "      <td>New</td>\n",
       "      <td>140000</td>\n",
       "    </tr>\n",
       "    <tr>\n",
       "      <th>7</th>\n",
       "      <td>145</td>\n",
       "      <td>535154050</td>\n",
       "      <td>20</td>\n",
       "      <td>RL</td>\n",
       "      <td>NaN</td>\n",
       "      <td>12160</td>\n",
       "      <td>Pave</td>\n",
       "      <td>NaN</td>\n",
       "      <td>IR1</td>\n",
       "      <td>Lvl</td>\n",
       "      <td>...</td>\n",
       "      <td>0</td>\n",
       "      <td>0</td>\n",
       "      <td>NaN</td>\n",
       "      <td>MnPrv</td>\n",
       "      <td>NaN</td>\n",
       "      <td>0</td>\n",
       "      <td>5</td>\n",
       "      <td>2010</td>\n",
       "      <td>COD</td>\n",
       "      <td>142000</td>\n",
       "    </tr>\n",
       "    <tr>\n",
       "      <th>8</th>\n",
       "      <td>1942</td>\n",
       "      <td>535353130</td>\n",
       "      <td>20</td>\n",
       "      <td>RL</td>\n",
       "      <td>NaN</td>\n",
       "      <td>15783</td>\n",
       "      <td>Pave</td>\n",
       "      <td>NaN</td>\n",
       "      <td>Reg</td>\n",
       "      <td>Lvl</td>\n",
       "      <td>...</td>\n",
       "      <td>0</td>\n",
       "      <td>0</td>\n",
       "      <td>NaN</td>\n",
       "      <td>MnPrv</td>\n",
       "      <td>Shed</td>\n",
       "      <td>400</td>\n",
       "      <td>6</td>\n",
       "      <td>2007</td>\n",
       "      <td>WD</td>\n",
       "      <td>112500</td>\n",
       "    </tr>\n",
       "    <tr>\n",
       "      <th>9</th>\n",
       "      <td>1956</td>\n",
       "      <td>535426130</td>\n",
       "      <td>60</td>\n",
       "      <td>RL</td>\n",
       "      <td>70.0</td>\n",
       "      <td>11606</td>\n",
       "      <td>Pave</td>\n",
       "      <td>NaN</td>\n",
       "      <td>IR1</td>\n",
       "      <td>HLS</td>\n",
       "      <td>...</td>\n",
       "      <td>0</td>\n",
       "      <td>0</td>\n",
       "      <td>NaN</td>\n",
       "      <td>NaN</td>\n",
       "      <td>NaN</td>\n",
       "      <td>0</td>\n",
       "      <td>9</td>\n",
       "      <td>2007</td>\n",
       "      <td>WD</td>\n",
       "      <td>135000</td>\n",
       "    </tr>\n",
       "    <tr>\n",
       "      <th>10</th>\n",
       "      <td>1044</td>\n",
       "      <td>527451290</td>\n",
       "      <td>160</td>\n",
       "      <td>RM</td>\n",
       "      <td>21.0</td>\n",
       "      <td>1680</td>\n",
       "      <td>Pave</td>\n",
       "      <td>NaN</td>\n",
       "      <td>Reg</td>\n",
       "      <td>Lvl</td>\n",
       "      <td>...</td>\n",
       "      <td>0</td>\n",
       "      <td>0</td>\n",
       "      <td>NaN</td>\n",
       "      <td>NaN</td>\n",
       "      <td>NaN</td>\n",
       "      <td>0</td>\n",
       "      <td>7</td>\n",
       "      <td>2008</td>\n",
       "      <td>COD</td>\n",
       "      <td>85400</td>\n",
       "    </tr>\n",
       "    <tr>\n",
       "      <th>11</th>\n",
       "      <td>2752</td>\n",
       "      <td>906380150</td>\n",
       "      <td>20</td>\n",
       "      <td>RL</td>\n",
       "      <td>64.0</td>\n",
       "      <td>7488</td>\n",
       "      <td>Pave</td>\n",
       "      <td>NaN</td>\n",
       "      <td>IR1</td>\n",
       "      <td>Lvl</td>\n",
       "      <td>...</td>\n",
       "      <td>0</td>\n",
       "      <td>0</td>\n",
       "      <td>NaN</td>\n",
       "      <td>NaN</td>\n",
       "      <td>NaN</td>\n",
       "      <td>0</td>\n",
       "      <td>2</td>\n",
       "      <td>2006</td>\n",
       "      <td>WD</td>\n",
       "      <td>183600</td>\n",
       "    </tr>\n",
       "    <tr>\n",
       "      <th>12</th>\n",
       "      <td>807</td>\n",
       "      <td>906226060</td>\n",
       "      <td>70</td>\n",
       "      <td>RL</td>\n",
       "      <td>120.0</td>\n",
       "      <td>26400</td>\n",
       "      <td>Pave</td>\n",
       "      <td>NaN</td>\n",
       "      <td>Reg</td>\n",
       "      <td>Bnk</td>\n",
       "      <td>...</td>\n",
       "      <td>0</td>\n",
       "      <td>0</td>\n",
       "      <td>NaN</td>\n",
       "      <td>NaN</td>\n",
       "      <td>NaN</td>\n",
       "      <td>0</td>\n",
       "      <td>6</td>\n",
       "      <td>2009</td>\n",
       "      <td>WD</td>\n",
       "      <td>131000</td>\n",
       "    </tr>\n",
       "    <tr>\n",
       "      <th>13</th>\n",
       "      <td>1177</td>\n",
       "      <td>533236070</td>\n",
       "      <td>160</td>\n",
       "      <td>FV</td>\n",
       "      <td>24.0</td>\n",
       "      <td>2645</td>\n",
       "      <td>Pave</td>\n",
       "      <td>Pave</td>\n",
       "      <td>Reg</td>\n",
       "      <td>Lvl</td>\n",
       "      <td>...</td>\n",
       "      <td>0</td>\n",
       "      <td>0</td>\n",
       "      <td>NaN</td>\n",
       "      <td>NaN</td>\n",
       "      <td>NaN</td>\n",
       "      <td>0</td>\n",
       "      <td>12</td>\n",
       "      <td>2008</td>\n",
       "      <td>ConLD</td>\n",
       "      <td>200000</td>\n",
       "    </tr>\n",
       "    <tr>\n",
       "      <th>14</th>\n",
       "      <td>1480</td>\n",
       "      <td>907418040</td>\n",
       "      <td>20</td>\n",
       "      <td>RL</td>\n",
       "      <td>74.0</td>\n",
       "      <td>9627</td>\n",
       "      <td>Pave</td>\n",
       "      <td>NaN</td>\n",
       "      <td>Reg</td>\n",
       "      <td>Lvl</td>\n",
       "      <td>...</td>\n",
       "      <td>0</td>\n",
       "      <td>0</td>\n",
       "      <td>NaN</td>\n",
       "      <td>NaN</td>\n",
       "      <td>NaN</td>\n",
       "      <td>0</td>\n",
       "      <td>6</td>\n",
       "      <td>2008</td>\n",
       "      <td>WD</td>\n",
       "      <td>193000</td>\n",
       "    </tr>\n",
       "    <tr>\n",
       "      <th>15</th>\n",
       "      <td>324</td>\n",
       "      <td>923202105</td>\n",
       "      <td>20</td>\n",
       "      <td>RL</td>\n",
       "      <td>93.0</td>\n",
       "      <td>10114</td>\n",
       "      <td>Pave</td>\n",
       "      <td>NaN</td>\n",
       "      <td>Reg</td>\n",
       "      <td>Lvl</td>\n",
       "      <td>...</td>\n",
       "      <td>0</td>\n",
       "      <td>0</td>\n",
       "      <td>NaN</td>\n",
       "      <td>NaN</td>\n",
       "      <td>NaN</td>\n",
       "      <td>0</td>\n",
       "      <td>3</td>\n",
       "      <td>2010</td>\n",
       "      <td>WD</td>\n",
       "      <td>173500</td>\n",
       "    </tr>\n",
       "    <tr>\n",
       "      <th>16</th>\n",
       "      <td>1311</td>\n",
       "      <td>902301140</td>\n",
       "      <td>70</td>\n",
       "      <td>RM</td>\n",
       "      <td>34.0</td>\n",
       "      <td>4571</td>\n",
       "      <td>Pave</td>\n",
       "      <td>Grvl</td>\n",
       "      <td>Reg</td>\n",
       "      <td>Lvl</td>\n",
       "      <td>...</td>\n",
       "      <td>0</td>\n",
       "      <td>0</td>\n",
       "      <td>NaN</td>\n",
       "      <td>NaN</td>\n",
       "      <td>NaN</td>\n",
       "      <td>0</td>\n",
       "      <td>5</td>\n",
       "      <td>2008</td>\n",
       "      <td>COD</td>\n",
       "      <td>98000</td>\n",
       "    </tr>\n",
       "    <tr>\n",
       "      <th>17</th>\n",
       "      <td>770</td>\n",
       "      <td>905101490</td>\n",
       "      <td>20</td>\n",
       "      <td>RL</td>\n",
       "      <td>80.0</td>\n",
       "      <td>8816</td>\n",
       "      <td>Pave</td>\n",
       "      <td>NaN</td>\n",
       "      <td>Reg</td>\n",
       "      <td>Lvl</td>\n",
       "      <td>...</td>\n",
       "      <td>0</td>\n",
       "      <td>0</td>\n",
       "      <td>NaN</td>\n",
       "      <td>MnPrv</td>\n",
       "      <td>NaN</td>\n",
       "      <td>0</td>\n",
       "      <td>6</td>\n",
       "      <td>2009</td>\n",
       "      <td>WD</td>\n",
       "      <td>139000</td>\n",
       "    </tr>\n",
       "    <tr>\n",
       "      <th>18</th>\n",
       "      <td>2063</td>\n",
       "      <td>905107140</td>\n",
       "      <td>20</td>\n",
       "      <td>RL</td>\n",
       "      <td>71.0</td>\n",
       "      <td>8197</td>\n",
       "      <td>Pave</td>\n",
       "      <td>NaN</td>\n",
       "      <td>Reg</td>\n",
       "      <td>Lvl</td>\n",
       "      <td>...</td>\n",
       "      <td>0</td>\n",
       "      <td>0</td>\n",
       "      <td>NaN</td>\n",
       "      <td>MnPrv</td>\n",
       "      <td>NaN</td>\n",
       "      <td>0</td>\n",
       "      <td>4</td>\n",
       "      <td>2007</td>\n",
       "      <td>WD</td>\n",
       "      <td>143500</td>\n",
       "    </tr>\n",
       "    <tr>\n",
       "      <th>19</th>\n",
       "      <td>69</td>\n",
       "      <td>528458070</td>\n",
       "      <td>60</td>\n",
       "      <td>FV</td>\n",
       "      <td>72.0</td>\n",
       "      <td>8640</td>\n",
       "      <td>Pave</td>\n",
       "      <td>NaN</td>\n",
       "      <td>Reg</td>\n",
       "      <td>Lvl</td>\n",
       "      <td>...</td>\n",
       "      <td>0</td>\n",
       "      <td>0</td>\n",
       "      <td>NaN</td>\n",
       "      <td>NaN</td>\n",
       "      <td>NaN</td>\n",
       "      <td>0</td>\n",
       "      <td>6</td>\n",
       "      <td>2010</td>\n",
       "      <td>Con</td>\n",
       "      <td>215200</td>\n",
       "    </tr>\n",
       "  </tbody>\n",
       "</table>\n",
       "<p>20 rows × 81 columns</p>\n",
       "</div>"
      ],
      "text/plain": [
       "      Id        PID  MS SubClass MS Zoning  Lot Frontage  Lot Area Street  \\\n",
       "0    109  533352170           60        RL           NaN     13517   Pave   \n",
       "1    544  531379050           60        RL          43.0     11492   Pave   \n",
       "2    153  535304180           20        RL          68.0      7922   Pave   \n",
       "3    318  916386060           60        RL          73.0      9802   Pave   \n",
       "4    255  906425045           50        RL          82.0     14235   Pave   \n",
       "5    138  535126040           20        RL         137.0     16492   Pave   \n",
       "6   2827  908186070          180        RM          35.0      3675   Pave   \n",
       "7    145  535154050           20        RL           NaN     12160   Pave   \n",
       "8   1942  535353130           20        RL           NaN     15783   Pave   \n",
       "9   1956  535426130           60        RL          70.0     11606   Pave   \n",
       "10  1044  527451290          160        RM          21.0      1680   Pave   \n",
       "11  2752  906380150           20        RL          64.0      7488   Pave   \n",
       "12   807  906226060           70        RL         120.0     26400   Pave   \n",
       "13  1177  533236070          160        FV          24.0      2645   Pave   \n",
       "14  1480  907418040           20        RL          74.0      9627   Pave   \n",
       "15   324  923202105           20        RL          93.0     10114   Pave   \n",
       "16  1311  902301140           70        RM          34.0      4571   Pave   \n",
       "17   770  905101490           20        RL          80.0      8816   Pave   \n",
       "18  2063  905107140           20        RL          71.0      8197   Pave   \n",
       "19    69  528458070           60        FV          72.0      8640   Pave   \n",
       "\n",
       "   Alley Lot Shape Land Contour  ... Screen Porch Pool Area Pool QC  Fence  \\\n",
       "0    NaN       IR1          Lvl  ...            0         0     NaN    NaN   \n",
       "1    NaN       IR1          Lvl  ...            0         0     NaN    NaN   \n",
       "2    NaN       Reg          Lvl  ...            0         0     NaN    NaN   \n",
       "3    NaN       Reg          Lvl  ...            0         0     NaN    NaN   \n",
       "4    NaN       IR1          Lvl  ...            0         0     NaN    NaN   \n",
       "5    NaN       IR1          Lvl  ...            0         0     NaN    NaN   \n",
       "6    NaN       Reg          Lvl  ...            0         0     NaN    NaN   \n",
       "7    NaN       IR1          Lvl  ...            0         0     NaN  MnPrv   \n",
       "8    NaN       Reg          Lvl  ...            0         0     NaN  MnPrv   \n",
       "9    NaN       IR1          HLS  ...            0         0     NaN    NaN   \n",
       "10   NaN       Reg          Lvl  ...            0         0     NaN    NaN   \n",
       "11   NaN       IR1          Lvl  ...            0         0     NaN    NaN   \n",
       "12   NaN       Reg          Bnk  ...            0         0     NaN    NaN   \n",
       "13  Pave       Reg          Lvl  ...            0         0     NaN    NaN   \n",
       "14   NaN       Reg          Lvl  ...            0         0     NaN    NaN   \n",
       "15   NaN       Reg          Lvl  ...            0         0     NaN    NaN   \n",
       "16  Grvl       Reg          Lvl  ...            0         0     NaN    NaN   \n",
       "17   NaN       Reg          Lvl  ...            0         0     NaN  MnPrv   \n",
       "18   NaN       Reg          Lvl  ...            0         0     NaN  MnPrv   \n",
       "19   NaN       Reg          Lvl  ...            0         0     NaN    NaN   \n",
       "\n",
       "   Misc Feature Misc Val Mo Sold Yr Sold  Sale Type  SalePrice  \n",
       "0           NaN        0       3    2010        WD      130500  \n",
       "1           NaN        0       4    2009        WD      220000  \n",
       "2           NaN        0       1    2010        WD      109000  \n",
       "3           NaN        0       4    2010        WD      174000  \n",
       "4           NaN        0       3    2010        WD      138500  \n",
       "5           NaN        0       6    2010        WD      190000  \n",
       "6           NaN        0       6    2006        New     140000  \n",
       "7           NaN        0       5    2010        COD     142000  \n",
       "8          Shed      400       6    2007        WD      112500  \n",
       "9           NaN        0       9    2007        WD      135000  \n",
       "10          NaN        0       7    2008        COD      85400  \n",
       "11          NaN        0       2    2006        WD      183600  \n",
       "12          NaN        0       6    2009        WD      131000  \n",
       "13          NaN        0      12    2008      ConLD     200000  \n",
       "14          NaN        0       6    2008        WD      193000  \n",
       "15          NaN        0       3    2010        WD      173500  \n",
       "16          NaN        0       5    2008        COD      98000  \n",
       "17          NaN        0       6    2009        WD      139000  \n",
       "18          NaN        0       4    2007        WD      143500  \n",
       "19          NaN        0       6    2010        Con     215200  \n",
       "\n",
       "[20 rows x 81 columns]"
      ]
     },
     "execution_count": 3,
     "metadata": {},
     "output_type": "execute_result"
    }
   ],
   "source": [
    "#Code:\n",
    "df_train.head(20)"
   ]
  },
  {
   "cell_type": "code",
   "execution_count": 4,
   "metadata": {},
   "outputs": [],
   "source": [
    "# data cleaning to get rid of index and put in ID instead # Noah's lecture\n",
    "df_train.set_index('Id', inplace = True)\n",
    "df_test.set_index('Id', inplace = True)\n"
   ]
  },
  {
   "cell_type": "code",
   "execution_count": 27,
   "metadata": {},
   "outputs": [
    {
     "data": {
      "text/plain": [
       "Misc Feature       1986\n",
       "Alley              1911\n",
       "Lot Frontage        330\n",
       "Garage Yr Blt       114\n",
       "Garage Type         113\n",
       "Mas Vnr Type         22\n",
       "Mas Vnr Area         22\n",
       "Bsmt Full Bath        2\n",
       "Bsmt Half Bath        2\n",
       "Garage Area           1\n",
       "BsmtFin SF 2          1\n",
       "Bsmt Unf SF           1\n",
       "Total Bsmt SF         1\n",
       "Garage Cars           1\n",
       "BsmtFin SF 1          1\n",
       "SalePrice             0\n",
       "Exterior 1st          0\n",
       "Exterior 2nd          0\n",
       "Exter Qual            0\n",
       "Roof Style            0\n",
       "Exter Cond            0\n",
       "Foundation            0\n",
       "Bsmt Qual             0\n",
       "Bsmt Cond             0\n",
       "Bsmt Exposure         0\n",
       "Roof Matl             0\n",
       "House Style           0\n",
       "Year Remod/Add        0\n",
       "Year Built            0\n",
       "MS SubClass           0\n",
       "MS Zoning             0\n",
       "Lot Area              0\n",
       "Street                0\n",
       "Lot Shape             0\n",
       "Land Contour          0\n",
       "Utilities             0\n",
       "Lot Config            0\n",
       "Land Slope            0\n",
       "Neighborhood          0\n",
       "Condition 1           0\n",
       "Condition 2           0\n",
       "Bldg Type             0\n",
       "Overall Qual          0\n",
       "Overall Cond          0\n",
       "BsmtFin Type 1        0\n",
       "Heating               0\n",
       "BsmtFin Type 2        0\n",
       "3Ssn Porch            0\n",
       "Garage Qual           0\n",
       "Garage Cond           0\n",
       "Paved Drive           0\n",
       "Wood Deck SF          0\n",
       "Open Porch SF         0\n",
       "Enclosed Porch        0\n",
       "Screen Porch          0\n",
       "Sale Type             0\n",
       "Pool Area             0\n",
       "Pool QC               0\n",
       "Fence                 0\n",
       "Misc Val              0\n",
       "Mo Sold               0\n",
       "Yr Sold               0\n",
       "Garage Finish         0\n",
       "Fireplace Qu          0\n",
       "Fireplaces            0\n",
       "Functional            0\n",
       "TotRms AbvGrd         0\n",
       "Kitchen Qual          0\n",
       "Kitchen AbvGr         0\n",
       "Bedroom AbvGr         0\n",
       "Half Bath             0\n",
       "Full Bath             0\n",
       "Gr Liv Area           0\n",
       "Low Qual Fin SF       0\n",
       "2nd Flr SF            0\n",
       "1st Flr SF            0\n",
       "Electrical            0\n",
       "Central Air           0\n",
       "Heating QC            0\n",
       "PID                   0\n",
       "dtype: int64"
      ]
     },
     "execution_count": 27,
     "metadata": {},
     "output_type": "execute_result"
    }
   ],
   "source": [
    "# Checking to see how much info is missing in my columns \n",
    "df_train.isna().sum().sort_values(ascending = False)\n"
   ]
  },
  {
   "cell_type": "code",
   "execution_count": 6,
   "metadata": {},
   "outputs": [
    {
     "data": {
      "text/plain": [
       "Index(['PID', 'MS SubClass', 'MS Zoning', 'Lot Frontage', 'Lot Area', 'Street',\n",
       "       'Alley', 'Lot Shape', 'Land Contour', 'Utilities', 'Lot Config',\n",
       "       'Land Slope', 'Neighborhood', 'Condition 1', 'Condition 2', 'Bldg Type',\n",
       "       'House Style', 'Overall Qual', 'Overall Cond', 'Year Built',\n",
       "       'Year Remod/Add', 'Roof Style', 'Roof Matl', 'Exterior 1st',\n",
       "       'Exterior 2nd', 'Mas Vnr Type', 'Mas Vnr Area', 'Exter Qual',\n",
       "       'Exter Cond', 'Foundation', 'Bsmt Qual', 'Bsmt Cond', 'Bsmt Exposure',\n",
       "       'BsmtFin Type 1', 'BsmtFin SF 1', 'BsmtFin Type 2', 'BsmtFin SF 2',\n",
       "       'Bsmt Unf SF', 'Total Bsmt SF', 'Heating', 'Heating QC', 'Central Air',\n",
       "       'Electrical', '1st Flr SF', '2nd Flr SF', 'Low Qual Fin SF',\n",
       "       'Gr Liv Area', 'Bsmt Full Bath', 'Bsmt Half Bath', 'Full Bath',\n",
       "       'Half Bath', 'Bedroom AbvGr', 'Kitchen AbvGr', 'Kitchen Qual',\n",
       "       'TotRms AbvGrd', 'Functional', 'Fireplaces', 'Fireplace Qu',\n",
       "       'Garage Type', 'Garage Yr Blt', 'Garage Finish', 'Garage Cars',\n",
       "       'Garage Area', 'Garage Qual', 'Garage Cond', 'Paved Drive',\n",
       "       'Wood Deck SF', 'Open Porch SF', 'Enclosed Porch', '3Ssn Porch',\n",
       "       'Screen Porch', 'Pool Area', 'Pool QC', 'Fence', 'Misc Feature',\n",
       "       'Misc Val', 'Mo Sold', 'Yr Sold', 'Sale Type'],\n",
       "      dtype='object')"
      ]
     },
     "execution_count": 6,
     "metadata": {},
     "output_type": "execute_result"
    }
   ],
   "source": [
    "#df_test.isna().sum().sort_values(ascending = False) \n",
    "df_test.columns"
   ]
  },
  {
   "cell_type": "code",
   "execution_count": null,
   "metadata": {},
   "outputs": [],
   "source": [
    "#was just for testing purposes...?\n",
    "#df_train.fillna(0, inplace = True)\n",
    "#df_test.fillna(0, inplace = True)"
   ]
  },
  {
   "cell_type": "code",
   "execution_count": 7,
   "metadata": {},
   "outputs": [
    {
     "data": {
      "text/plain": [
       "{'1st Flr SF',\n",
       " '2nd Flr SF',\n",
       " '3Ssn Porch',\n",
       " 'Alley',\n",
       " 'Bedroom AbvGr',\n",
       " 'Bldg Type',\n",
       " 'Bsmt Cond',\n",
       " 'Bsmt Exposure',\n",
       " 'Bsmt Full Bath',\n",
       " 'Bsmt Half Bath',\n",
       " 'Bsmt Qual',\n",
       " 'Bsmt Unf SF',\n",
       " 'BsmtFin SF 1',\n",
       " 'BsmtFin SF 2',\n",
       " 'BsmtFin Type 1',\n",
       " 'BsmtFin Type 2',\n",
       " 'Central Air',\n",
       " 'Condition 1',\n",
       " 'Condition 2',\n",
       " 'Electrical',\n",
       " 'Enclosed Porch',\n",
       " 'Exter Cond',\n",
       " 'Exter Qual',\n",
       " 'Exterior 1st',\n",
       " 'Exterior 2nd',\n",
       " 'Fence',\n",
       " 'Fireplace Qu',\n",
       " 'Fireplaces',\n",
       " 'Foundation',\n",
       " 'Full Bath',\n",
       " 'Functional',\n",
       " 'Garage Area',\n",
       " 'Garage Cars',\n",
       " 'Garage Cond',\n",
       " 'Garage Finish',\n",
       " 'Garage Qual',\n",
       " 'Garage Type',\n",
       " 'Garage Yr Blt',\n",
       " 'Gr Liv Area',\n",
       " 'Half Bath',\n",
       " 'Heating',\n",
       " 'Heating QC',\n",
       " 'House Style',\n",
       " 'Kitchen AbvGr',\n",
       " 'Kitchen Qual',\n",
       " 'Land Contour',\n",
       " 'Land Slope',\n",
       " 'Lot Area',\n",
       " 'Lot Config',\n",
       " 'Lot Frontage',\n",
       " 'Lot Shape',\n",
       " 'Low Qual Fin SF',\n",
       " 'MS SubClass',\n",
       " 'MS Zoning',\n",
       " 'Mas Vnr Area',\n",
       " 'Mas Vnr Type',\n",
       " 'Misc Feature',\n",
       " 'Misc Val',\n",
       " 'Mo Sold',\n",
       " 'Neighborhood',\n",
       " 'Open Porch SF',\n",
       " 'Overall Cond',\n",
       " 'Overall Qual',\n",
       " 'PID',\n",
       " 'Paved Drive',\n",
       " 'Pool Area',\n",
       " 'Pool QC',\n",
       " 'Roof Matl',\n",
       " 'Roof Style',\n",
       " 'Sale Type',\n",
       " 'SalePrice',\n",
       " 'Screen Porch',\n",
       " 'Street',\n",
       " 'TotRms AbvGrd',\n",
       " 'Total Bsmt SF',\n",
       " 'Utilities',\n",
       " 'Wood Deck SF',\n",
       " 'Year Built',\n",
       " 'Year Remod/Add',\n",
       " 'Yr Sold'}"
      ]
     },
     "execution_count": 7,
     "metadata": {},
     "output_type": "execute_result"
    }
   ],
   "source": [
    "# Checking for names of columns not being displayed by head.  source from Dimitri Kisten\n",
    "pd.set_option('display.max_rows', 90)\n",
    "set(df_train)"
   ]
  },
  {
   "cell_type": "code",
   "execution_count": 21,
   "metadata": {},
   "outputs": [
    {
     "data": {
      "text/plain": [
       "PID                  int64\n",
       "MS SubClass          int64\n",
       "MS Zoning           object\n",
       "Lot Frontage       float64\n",
       "Lot Area             int64\n",
       "Street              object\n",
       "Alley               object\n",
       "Lot Shape            int64\n",
       "Land Contour        object\n",
       "Utilities           object\n",
       "Lot Config          object\n",
       "Land Slope           int64\n",
       "Neighborhood        object\n",
       "Condition 1         object\n",
       "Condition 2         object\n",
       "Bldg Type           object\n",
       "House Style         object\n",
       "Overall Qual         int64\n",
       "Overall Cond         int64\n",
       "Year Built           int64\n",
       "Year Remod/Add       int64\n",
       "Roof Style          object\n",
       "Roof Matl           object\n",
       "Exterior 1st        object\n",
       "Exterior 2nd        object\n",
       "Mas Vnr Type        object\n",
       "Mas Vnr Area       float64\n",
       "Exter Qual          object\n",
       "Exter Cond           int64\n",
       "Foundation          object\n",
       "Bsmt Qual            int64\n",
       "Bsmt Cond            int64\n",
       "Bsmt Exposure        int64\n",
       "BsmtFin Type 1       int64\n",
       "BsmtFin SF 1         int64\n",
       "BsmtFin Type 2       int64\n",
       "BsmtFin SF 2         int64\n",
       "Bsmt Unf SF          int64\n",
       "Total Bsmt SF        int64\n",
       "Heating             object\n",
       "Heating QC          object\n",
       "Central Air         object\n",
       "Electrical           int64\n",
       "1st Flr SF           int64\n",
       "2nd Flr SF           int64\n",
       "Low Qual Fin SF      int64\n",
       "Gr Liv Area          int64\n",
       "Bsmt Full Bath       int64\n",
       "Bsmt Half Bath       int64\n",
       "Full Bath            int64\n",
       "Half Bath            int64\n",
       "Bedroom AbvGr        int64\n",
       "Kitchen AbvGr        int64\n",
       "Kitchen Qual        object\n",
       "TotRms AbvGrd        int64\n",
       "Functional          object\n",
       "Fireplaces           int64\n",
       "Fireplace Qu         int64\n",
       "Garage Type         object\n",
       "Garage Yr Blt      float64\n",
       "Garage Finish        int64\n",
       "Garage Cars          int64\n",
       "Garage Area          int64\n",
       "Garage Qual          int64\n",
       "Garage Cond          int64\n",
       "Paved Drive         object\n",
       "Wood Deck SF         int64\n",
       "Open Porch SF        int64\n",
       "Enclosed Porch       int64\n",
       "3Ssn Porch           int64\n",
       "Screen Porch         int64\n",
       "Pool Area            int64\n",
       "Pool QC              int64\n",
       "Fence                int64\n",
       "Misc Feature        object\n",
       "Misc Val             int64\n",
       "Mo Sold              int64\n",
       "Yr Sold              int64\n",
       "Sale Type           object\n",
       "dtype: object"
      ]
     },
     "execution_count": 21,
     "metadata": {},
     "output_type": "execute_result"
    }
   ],
   "source": [
    "df_test.dtypes"
   ]
  },
  {
   "cell_type": "code",
   "execution_count": 9,
   "metadata": {},
   "outputs": [],
   "source": [
    "\n",
    "# function to create dummy columns\n",
    "def dummify(data_input,column):  \n",
    "    data_input = pd.get_dummies(data = data_input, columns = [column])\n",
    "    \n",
    "    return data_input\n",
    "\n",
    "# function to fill NaN with 0s\n",
    "def Zerofy (data,column):\n",
    "    data[column] = data[column].fillna(0)\n",
    "    \n",
    "    \n",
    "# function to replace ordinal values with a integers by category\n",
    "def numberfy (data,column,dictionary):\n",
    "\n",
    "# {'RM':1,'RL':2}\n",
    "    data[column] = data[column].map(dictionary)\n",
    "\n",
    "    return(data[[column]])"
   ]
  },
  {
   "cell_type": "code",
   "execution_count": 10,
   "metadata": {},
   "outputs": [],
   "source": [
    "# Dictionary of all the column names with all the ordinal variables with integer values to be replaced with (idea credits to Noah)\n",
    "# 'Column Name': {'values in column': 'values to replace with'}\n",
    "\n",
    "ordinal_dict = {'Lot Shape':{'Reg':3, 'IR1': 2, 'IR2' : 1, 'IR3':0},\n",
    "                'Utilities':{'AllPub':3, 'NoSewr':2, 'NoSeWa' : 1, 'ELO':0},\n",
    "                'Land Slope':{'Gtl' : 2, 'Mod':1, 'Sev': 0},\n",
    "                'Exter Qual':{'Ex':5, 'Gd':4, 'TA' : 3, 'Fa':2, 'Po': 1},\n",
    "                'Exter Cond':{'Ex':5, 'Gd':4, 'TA' : 3, 'Fa':2, 'Po': 1},\n",
    "                'Bsmt Qual':{'Ex':5, 'Gd':4, 'TA' : 3, 'Fa':2, 'Po': 1, np.nan:0},\n",
    "                'Bsmt Cond':{'Ex':5, 'Gd':4, 'TA' : 3, 'Fa':2, 'Po': 1, np.nan:0},\n",
    "                'Bsmt Exposure':{'Gd':4, 'Av':3, 'Mn' : 2, 'No':1, np.nan:0},\n",
    "                'BsmtFin Type 1':{'GLQ':6, 'ALQ':5, 'BLQ':4, 'Rec' : 3, 'LwQ':2, 'Unf': 1, np.nan:0},\n",
    "                'BsmtFin Type 2':{'GLQ':6, 'ALQ':5, 'BLQ':4, 'Rec' : 3, 'LwQ':2, 'Unf': 1, np.nan:0},\n",
    "                'Heating QC':{'Ex':5, 'Gd':4, 'TA' : 3, 'Fa':2, 'Po': 1, np.nan:0},\n",
    "                'Electrical':{'SBrkr':5, 'FuseA':4, 'FuseF' : 3, 'FuseP':2, 'Mix': 1, np.nan:0},\n",
    "                'Kitchen Qual':{'Ex':5, 'Gd':4, 'TA' : 3, 'Fa':2, 'Po': 1, np.nan:0},\n",
    "                'Functional':{'Typ':8, 'Min1':7, 'Min2':6, 'Mod':5, 'Maj1':4, 'Mdf_aj2' : 3, 'Sev':2, 'Sal': 1, np.nan:0},\n",
    "                'Fireplace Qu':{'Ex':5, 'Gd':4, 'TA' : 3, 'Fa':2, 'Po': 1, np.nan:0},\n",
    "                'Garage Finish':{'Fin':3, 'RFn' : 2, 'Unf':1, np.nan:0},\n",
    "                'Garage Qual':{'Ex':5, 'Gd':4, 'TA' : 3, 'Fa':2, 'Po': 1, np.nan:0},\n",
    "                'Garage Cond':{'Ex':5, 'Gd':4, 'TA' : 3, 'Fa':2, 'Po': 1, np.nan:0},\n",
    "                'Paved Drive':{'Y' : 3, 'P':2, 'N': 1, np.nan:0},\n",
    "                'Pool QC':{'Ex':4, 'Gd':3, 'TA' : 2, 'Fa':1, np.nan: 0},\n",
    "                'Fence':{'GdPrv':4, 'MnPrv':3,'GdWo':2,'MnWw':1,np.nan:0}\n",
    "                \n",
    "               }\n"
   ]
  },
  {
   "cell_type": "code",
   "execution_count": 11,
   "metadata": {},
   "outputs": [
    {
     "data": {
      "text/plain": [
       "count      4\n",
       "unique     2\n",
       "top       Ex\n",
       "freq       3\n",
       "Name: Pool QC, dtype: object"
      ]
     },
     "execution_count": 11,
     "metadata": {},
     "output_type": "execute_result"
    }
   ],
   "source": [
    "df_test['Pool QC'].describe()"
   ]
  },
  {
   "cell_type": "code",
   "execution_count": 12,
   "metadata": {},
   "outputs": [],
   "source": [
    "df_test = df_test.replace(ordinal_dict)\n",
    "\n",
    "df_train = df_train.replace(ordinal_dict)"
   ]
  },
  {
   "cell_type": "code",
   "execution_count": null,
   "metadata": {},
   "outputs": [],
   "source": [
    "#Use get_dummies on columns with nominal variables\n",
    "\n",
    "df_test = pd.get_dummies(data = df_test, columns = ['MS Zoning',\n",
    "                                                    'Street',\n",
    "                                                    'Alley',\n",
    "                                                    'Land Contour',\n",
    "                                                    'Lot Config',\n",
    "                                                    'Neighborhood',\n",
    "                                                    'Condition 1',\n",
    "                                                    'Condition 2',\n",
    "                                                    'Bldg Type',\n",
    "                                                    'House Style',\n",
    "                                                    'Roof Style',\n",
    "                                                    'Roof Matl',\n",
    "                                                    'Exterior 1st',\n",
    "                                                    'Exterior 2nd',\n",
    "                                                    'Mas Vnr Type',\n",
    "                                                    'Foundation',\n",
    "                                                    'Heating',\n",
    "                                                    'Central Air',\n",
    "                                                    'Garage Type',\n",
    "                                                    'Misc Feature',\n",
    "                                                    'Sale Type'])\n",
    "\n",
    "df_train = pd.get_dummies(data = df_train, columns = ['MS Zoning',\n",
    "                                                    'Street',\n",
    "                                                    'Alley',\n",
    "                                                    'Land Contour',\n",
    "                                                    'Lot Config',\n",
    "                                                    'Neighborhood',\n",
    "                                                    'Condition 1',\n",
    "                                                    'Condition 2',\n",
    "                                                    'Bldg Type',\n",
    "                                                    'House Style',\n",
    "                                                    'Roof Style',\n",
    "                                                    'Roof Matl',\n",
    "                                                    'Exterior 1st',\n",
    "                                                    'Exterior 2nd',\n",
    "                                                    'Mas Vnr Type',\n",
    "                                                    'Foundation',\n",
    "                                                    'Heating',\n",
    "                                                    'Central Air',\n",
    "                                                    'Garage Type',\n",
    "                                                    'Misc Feature',\n",
    "                                                    'Sale Type'])"
   ]
  },
  {
   "cell_type": "code",
   "execution_count": null,
   "metadata": {},
   "outputs": [],
   "source": [
    "df_test['Alley_Grvl']"
   ]
  },
  {
   "cell_type": "code",
   "execution_count": null,
   "metadata": {},
   "outputs": [],
   "source": [
    "\n",
    "# Data organization\n",
    "\n",
    "## Should fill NaN with 0\n",
    "# Alley, Lot Frontage\n",
    "\n",
    "\n",
    "## Ordinal (should replace with values)\n",
    "#Lot Shape, \n",
    "# Fence (GdPrv:4, MnPrv:3,GdWo:2,MnWw:1,NA:0)\n",
    "#Pool QC (Ex:4, Gd:3, TA:2, Fa:1, NA:0)\n",
    "\n",
    "##Nominal, just dummify\n",
    "#Misc Feature (Elev, Gar2, Othr, Shed, TenC, NA)"
   ]
  },
  {
   "cell_type": "code",
   "execution_count": null,
   "metadata": {},
   "outputs": [],
   "source": []
  },
  {
   "cell_type": "code",
   "execution_count": 14,
   "metadata": {},
   "outputs": [
    {
     "data": {
      "text/plain": [
       "<seaborn.axisgrid.PairGrid at 0x25142c1cb08>"
      ]
     },
     "execution_count": 14,
     "metadata": {},
     "output_type": "execute_result"
    },
    {
     "data": {
      "image/png": "[encoded data removed]",
      "text/plain": [
       "<Figure size 360x360 with 6 Axes>"
      ]
     },
     "metadata": {
      "needs_background": "light"
     },
     "output_type": "display_data"
    }
   ],
   "source": [
    "sns.pairplot(df_train[features])"
   ]
  },
  {
   "cell_type": "markdown",
   "metadata": {},
   "source": [
    "#### 3. Verbally Describe Data\n",
    "\n",
    "Take your time looking through the data and thoroughly describe the data in the markdown cell below. "
   ]
  },
  {
   "cell_type": "code",
   "execution_count": 13,
   "metadata": {},
   "outputs": [
    {
     "data": {
      "text/html": [
       "<div>\n",
       "<style scoped>\n",
       "    .dataframe tbody tr th:only-of-type {\n",
       "        vertical-align: middle;\n",
       "    }\n",
       "\n",
       "    .dataframe tbody tr th {\n",
       "        vertical-align: top;\n",
       "    }\n",
       "\n",
       "    .dataframe thead th {\n",
       "        text-align: right;\n",
       "    }\n",
       "</style>\n",
       "<table border=\"1\" class=\"dataframe\">\n",
       "  <thead>\n",
       "    <tr style=\"text-align: right;\">\n",
       "      <th></th>\n",
       "      <th>Lot Shape</th>\n",
       "      <th>Utilities</th>\n",
       "    </tr>\n",
       "    <tr>\n",
       "      <th>Id</th>\n",
       "      <th></th>\n",
       "      <th></th>\n",
       "    </tr>\n",
       "  </thead>\n",
       "  <tbody>\n",
       "    <tr>\n",
       "      <th>109</th>\n",
       "      <td>2</td>\n",
       "      <td>3</td>\n",
       "    </tr>\n",
       "    <tr>\n",
       "      <th>544</th>\n",
       "      <td>2</td>\n",
       "      <td>3</td>\n",
       "    </tr>\n",
       "    <tr>\n",
       "      <th>153</th>\n",
       "      <td>3</td>\n",
       "      <td>3</td>\n",
       "    </tr>\n",
       "    <tr>\n",
       "      <th>318</th>\n",
       "      <td>3</td>\n",
       "      <td>3</td>\n",
       "    </tr>\n",
       "    <tr>\n",
       "      <th>255</th>\n",
       "      <td>2</td>\n",
       "      <td>3</td>\n",
       "    </tr>\n",
       "  </tbody>\n",
       "</table>\n",
       "</div>"
      ],
      "text/plain": [
       "     Lot Shape Utilities\n",
       "Id                      \n",
       "109          2         3\n",
       "544          2         3\n",
       "153          3         3\n",
       "318          3         3\n",
       "255          2         3"
      ]
     },
     "execution_count": 13,
     "metadata": {},
     "output_type": "execute_result"
    }
   ],
   "source": [
    "features = ['Lot Shape' , 'Utilities']\n",
    "X = df_train[features]\n",
    "y = df_train['SalePrice']\n",
    "\n",
    "X.head()\n",
    "#(subset of columns from df_train)\n",
    "\n"
   ]
  },
  {
   "cell_type": "code",
   "execution_count": 16,
   "metadata": {},
   "outputs": [
    {
     "name": "stdout",
     "output_type": "stream",
     "text": [
      "(1538, 2)\n",
      "(513, 2)\n"
     ]
    }
   ],
   "source": [
    "X_train, X_test, y_train, y_test = train_test_split(X,y)\n",
    "print(X_train.shape)\n",
    "print(X_test.shape)"
   ]
  },
  {
   "cell_type": "code",
   "execution_count": null,
   "metadata": {},
   "outputs": [],
   "source": [
    "#Calculating Baseline Score\n",
    "#base_mean = DummyRegressor(strategy = 'mean')\n",
    "\n",
    "#base_mean.fit(X_train, y_train) \n",
    "\n",
    "#Y_hat_base_train = base_mean.predict(X_train)\n",
    "#Y_hat_base_test = base_mean.predict(X_test)"
   ]
  },
  {
   "cell_type": "code",
   "execution_count": 26,
   "metadata": {},
   "outputs": [
    {
     "data": {
      "text/plain": [
       "77026.99123127734"
      ]
     },
     "execution_count": 26,
     "metadata": {},
     "output_type": "execute_result"
    }
   ],
   "source": [
    "y_hat_base_train = lr.predict(X_train)\n",
    "np.sqrt(metrics.mean_squared_error(y_train, y_hat_lr_train)) # root squared mean error\n",
    "\n"
   ]
  },
  {
   "cell_type": "code",
   "execution_count": 22,
   "metadata": {},
   "outputs": [],
   "source": [
    "lr = LinearRegression()\n",
    "lr.fit(X_train, Y_train)\n",
    "\n",
    "Y_hat_lr_train = lr.predict(X_train)\n",
    "X_hat_lr_test = lr.predict(x_test)\n",
    "\n",
    "\n",
    "#calculate RMSE\n"
   ]
  },
  {
   "cell_type": "code",
   "execution_count": null,
   "metadata": {},
   "outputs": [],
   "source": [
    "y_hat_base_train = lr.predict(X_train)\n",
    "np.sqrt(metrics.mean_squared_error(Y_train, Y_hat_lr_train)) # root squared mean error\n",
    "\n"
   ]
  },
  {
   "cell_type": "code",
   "execution_count": null,
   "metadata": {},
   "outputs": [],
   "source": [
    "\n",
    "np.sqrt(mean_squared_error*y_train, y_hat_lr_train)\n",
    "\n"
   ]
  },
  {
   "cell_type": "code",
   "execution_count": null,
   "metadata": {},
   "outputs": [],
   "source": [
    "X_kaggle = df_test [features]\n",
    "x_kaggle.head()\n",
    "\n",
    "x_kaggle[‘SalePrice’] = lr.predict(x_kaggle)\n",
    "\n",
    "output = X_kaggle[['SalePrice']]\n",
    "\n",
    "output.to_csv(‘./datasets/first_submission.csv’)"
   ]
  },
  {
   "cell_type": "markdown",
   "metadata": {},
   "source": [
    "#### 4b. Are there any obvious issues with the observations?\n",
    "\n",
    "**What is the minimum *possible* value for each test/subtest? What is the maximum *possible* value?**\n",
    "\n",
    "Consider comparing any questionable values to the sources of your data:\n",
    "- [SAT](https://blog.collegevine.com/here-are-the-average-sat-scores-by-state/)\n",
    "- [ACT](https://blog.prepscholar.com/act-scores-by-state-averages-highs-and-lows)"
   ]
  },
  {
   "cell_type": "markdown",
   "metadata": {},
   "source": [
    "Answer: The 2017 SAT scores data has an erroneous value of 52 for Math for the state average of Maryland (actual score : 524) while  2017 ACT scores data has an erroneous value of \"20.2x\" as a score for Wyoming. (actual score : 20.2)\n",
    "\n",
    "SAT: The minimum possible value for each of the subtests on the SAT is 200 while the maximum possible value is 800.  The overall final score of the SAT is the summation of the two subscores with a minimum of 400 and maximum of 1600.\n",
    "\n",
    "ACT: The minimum possible value for each of the subtests on the ACT is 1 while the maximum possible value is 36.  Composite score gives the average of the four subtests.  "
   ]
  },
  {
   "cell_type": "markdown",
   "metadata": {},
   "source": [
    "#### 5. What are your data types? \n",
    "Display the data types of each feature. "
   ]
  },
  {
   "cell_type": "code",
   "execution_count": null,
   "metadata": {},
   "outputs": [],
   "source": [
    "#code\n",
    "act_17.dtypes"
   ]
  },
  {
   "cell_type": "markdown",
   "metadata": {},
   "source": [
    "What did you learn?\n",
    "- Do any of them seem odd?  \n",
    "- Which ones are not as they should be?  "
   ]
  },
  {
   "cell_type": "markdown",
   "metadata": {},
   "source": [
    "Answer: Participation is a representation of % with numeric value but due to the string value of the % sign, the data type is considered an object.  Also, the datatype for composite is an object solely because of the erroneous value for Wyoming which included a string character of x when it should be a float. "
   ]
  },
  {
   "cell_type": "markdown",
   "metadata": {},
   "source": [
    "#### 6. Fix Incorrect Data Types\n",
    "Based on what you discovered above, use appropriate methods to re-type incorrectly typed data.\n",
    "- Define a function that will allow you to convert participation rates to an appropriate numeric type. Use `map` or `apply` to change these columns in each dataframe."
   ]
  },
  {
   "cell_type": "code",
   "execution_count": null,
   "metadata": {},
   "outputs": [],
   "source": [
    "def convert_to_float (column_name) :\n",
    "    \n",
    "    try :\n",
    "        converted_column = float(column_name)\n",
    "    \n",
    "    except :\n",
    "        converted_column = np.nan\n",
    "    \n",
    "    return converted_column\n",
    "\n",
    "\n",
    "# Saves current Participation column values without % and stores them as a new variable\n",
    "act_p_rate_17 = act_17[\"Participation\"].apply(lambda row: row.replace(\"%\",\"\"))\n",
    "sat_p_rate_17 = sat_17[\"Participation\"].apply(lambda row: row.replace(\"%\",\"\"))\n",
    "\n",
    "#reassign the newly converted Participation to the original data column \"Pariticipation\"\n",
    "act_17['Participation'] = act_p_rate_17.apply(convert_to_float)\n",
    "sat_17['Participation'] = sat_p_rate_17.apply(convert_to_float)"
   ]
  },
  {
   "cell_type": "markdown",
   "metadata": {},
   "source": [
    "\n",
    "- Fix any individual values preventing other columns from being the appropriate type."
   ]
  },
  {
   "cell_type": "markdown",
   "metadata": {},
   "source": [
    "- Finish your data modifications by making sure the columns are now typed appropriately."
   ]
  },
  {
   "cell_type": "markdown",
   "metadata": {},
   "source": [
    "- Display the data types again to confirm they are correct."
   ]
  },
  {
   "cell_type": "markdown",
   "metadata": {},
   "source": [
    "#### 7. Rename Columns\n",
    "Change the names of the columns to more expressive names so that you can tell the difference the SAT columns and the ACT columns. Your solution should map all column names being changed at once (no repeated singular name-changes). **We will be combining these data with some of the data from 2018, and so you should name columns in an appropriate way**.\n",
    "\n",
    "**Guidelines**:\n",
    "- Column names should be all lowercase (you will thank yourself when you start pushing data to SQL later in the course)\n",
    "- Column names should not contain spaces (underscores will suffice--this allows for using the `df.column_name` method to access columns in addition to `df['column_name']`.\n",
    "- Column names should be unique and informative (the only feature that we actually share between dataframes is the state)."
   ]
  },
  {
   "cell_type": "code",
   "execution_count": null,
   "metadata": {},
   "outputs": [],
   "source": [
    "#code\n",
    "sat_17.rename(columns={\n",
    "    'State': 'state',\n",
    "    'Participation': 'sat_participation_rate_17',\n",
    "    'Evidence-Based Reading and Writing' : 'sat_reading_writing_17',\n",
    "    'Math' : 'sat_math_17',\n",
    "    'Total' : 'sat_total_17'    \n",
    "    }, inplace=True)\n",
    "\n",
    "act_17.rename(columns={\n",
    "    'State': 'state',\n",
    "    'Participation': 'act_participation_rate_17',\n",
    "    'English' : 'act_english_17',\n",
    "    'Math' : 'act_math_17',\n",
    "    'Reading' : 'act_reading_17',\n",
    "    'Science' : 'act_science_17',\n",
    "    'Composite' : 'act_final_average_17'\n",
    "    }, inplace=True)\n"
   ]
  },
  {
   "cell_type": "markdown",
   "metadata": {},
   "source": [
    "#### 8. Create a data dictionary\n",
    "\n",
    "Now that we've fixed our data, and given it appropriate names, let's create a [data dictionary](http://library.ucmerced.edu/node/10249). \n",
    "\n",
    "A data dictionary provides a quick overview of features/variables/columns, alongside data types and descriptions. The more descriptive you can be, the more useful this document is.\n",
    "\n",
    "Example of a Fictional Data Dictionary Entry: \n",
    "\n",
    "|Feature|Type|Dataset|Description|\n",
    "|---|---|---|---|\n",
    "|**county_pop**|*integer*|2010 census|The population of the county (units in thousands, where 2.5 represents 2500 people).| \n",
    "|**per_poverty**|*float*|2010 census|The percent of the county over the age of 18 living below the 200% of official US poverty rate (units percent to two decimal places 98.10 means 98.1%)|\n",
    "\n",
    "[Here's a quick link to a short guide for formatting markdown in Jupyter notebooks](https://jupyter-notebook.readthedocs.io/en/stable/examples/Notebook/Working%20With%20Markdown%20Cells.html).\n",
    "\n",
    "Provided is the skeleton for formatting a markdown table, with columns headers that will help you create a data dictionary to quickly summarize your data, as well as some examples. **This would be a great thing to copy and paste into your custom README for this project.**"
   ]
  },
  {
   "cell_type": "markdown",
   "metadata": {},
   "source": [
    "|Feature|Type|Dataset|Description|\n",
    "|---|---|---|---|\n",
    "|column name|int/float/object|ACT/SAT|This is an example| \n",
    "|state|object|ACT/SAT|The State each row of scores the dataframe represents| \n",
    "|sat_participation_rate_17|float|SAT|Participation rate from the corresponding State for SAT scores in the year 2017| \n",
    "|sat_reading_writing_17|float|SAT|The average score of Reading & Writing from the corresponding State for SAT scores in the year 2017| \n",
    "|sat_math_17|float|SAT|The average score of Math from the corresponding State for SAT scores in the year 2017| \n",
    "|sat_total_17|float|SAT|The average combined score of Reading & Writing and Math from the corresponding State for SAT scores in the year 2017 | \n",
    "|act_participation_rate_17|float|ACT|Participation rate from the corresponding State for ACT scores in the year 2017| \n",
    "|act_english_17|float|ACT|The average score of English from the corresponding State for ACT scores in the year 2017| \n",
    "|act_math_17|float|ACT|The average score of Math from the corresponding State for ACT scores in the year 2017| \n",
    "|act_reading_17|float|ACT|The average score of Reading from the corresponding State for ACT scores in the year 2017| \n",
    "|act_science_17|float|ACT|The average score of Science from the corresponding State for ACT scores in the year 2017| \n",
    "|act_final_average_17|float|ACT|The average combined score of English, Math, Reading, and Science from the corresponding State for ACT scores in the year 2017| \n"
   ]
  },
  {
   "cell_type": "markdown",
   "metadata": {},
   "source": [
    "#### 9. Drop unnecessary rows\n",
    "\n",
    "One of our dataframes contains an extra row. Identify and remove this from the dataframe."
   ]
  },
  {
   "cell_type": "code",
   "execution_count": null,
   "metadata": {},
   "outputs": [],
   "source": [
    "#code\n",
    "act_17.drop(act_17.index[0],inplace = True)"
   ]
  },
  {
   "cell_type": "markdown",
   "metadata": {},
   "source": [
    "#### 10. Merge Dataframes\n",
    "\n",
    "Join the 2017 ACT and SAT dataframes using the state in each dataframe as the key. Assign this to a new variable."
   ]
  },
  {
   "cell_type": "code",
   "execution_count": null,
   "metadata": {},
   "outputs": [],
   "source": [
    "#Code:\n",
    "combined_17 = pd.merge(sat_17, \n",
    "                       act_17, \n",
    "                       on ='state',\n",
    "                       how='right')\n",
    "combined_17"
   ]
  },
  {
   "cell_type": "markdown",
   "metadata": {},
   "source": [
    "#### 11. Save your cleaned, merged dataframe\n",
    "\n",
    "Use a relative path to save out your data as `combined_2017.csv`."
   ]
  },
  {
   "cell_type": "code",
   "execution_count": null,
   "metadata": {},
   "outputs": [],
   "source": [
    "#code\n",
    "combined_17.to_csv('../data/combined_2017.csv')"
   ]
  },
  {
   "cell_type": "markdown",
   "metadata": {},
   "source": [
    "## 2018 Data Import and Cleaning"
   ]
  },
  {
   "cell_type": "markdown",
   "metadata": {},
   "source": [
    "Links to the 2018 ACT and SAT data are provided in the README. These data live in PDFs, and so you'll get to enjoy practicing some *manual* data collection. Save these data as a CSV in your `data` directory, and import, explore, and clean these data in the same way you did above. **Make sure you comment on your steps so it is clear *why* you are doing each process**."
   ]
  },
  {
   "cell_type": "code",
   "execution_count": null,
   "metadata": {},
   "outputs": [],
   "source": [
    "sat_18 = pd.read_csv('../data/sat_2018.csv')\n",
    "act_18 = pd.read_csv('../data/act_2018.csv')\n",
    "\n",
    "# Saves current Participation column values without % and stores them as a new variable\n",
    "act_p_rate_18 = act_18[\"Participation\"].apply(lambda row: row.replace(\"%\",\"\"))\n",
    "sat_p_rate_18 = sat_18[\"Participation\"].apply(lambda row: row.replace(\"%\",\"\"))\n",
    "\n",
    "#reassign the newly converted Participation to the original data column \"Pariticipation\"\n",
    "act_18['Participation'] = act_p_rate_18.apply(convert_to_float)\n",
    "sat_18['Participation'] = sat_p_rate_18.apply(convert_to_float)\n"
   ]
  },
  {
   "cell_type": "code",
   "execution_count": null,
   "metadata": {},
   "outputs": [],
   "source": [
    "sat_18.rename(columns={\n",
    "    'State': 'state',\n",
    "    'Participation': 'sat_participation_rate_18',\n",
    "    'Evidence-Based Reading and Writing' : 'sat_reading_writing_18',\n",
    "    'Math' : 'sat_math_18',\n",
    "    'Total' : 'sat_total_18'    \n",
    "    }, inplace=True)\n",
    "\n",
    "act_18.rename(columns={\n",
    "    'State': 'state',\n",
    "    'Participation': 'act_participation_rate_18',\n",
    "    'English' : 'act_english_18',\n",
    "    'Math' : 'act_math_18',\n",
    "    'Reading' : 'act_reading_18',\n",
    "    'Science' : 'act_science_18',\n",
    "    'Composite' : 'act_final_average_18'\n",
    "    }, inplace=True)"
   ]
  },
  {
   "cell_type": "code",
   "execution_count": null,
   "metadata": {},
   "outputs": [],
   "source": [
    "combined_18 = pd.merge(sat_18, \n",
    "                       act_18, \n",
    "                       on ='state',\n",
    "                       how='right')\n",
    "\n",
    "combined_18.to_csv('../data/combined_18.csv')"
   ]
  },
  {
   "cell_type": "code",
   "execution_count": null,
   "metadata": {},
   "outputs": [],
   "source": [
    "combined_18"
   ]
  },
  {
   "cell_type": "markdown",
   "metadata": {},
   "source": [
    "#### Combine your 2017 and 2018 data into a single dataframe\n",
    "Joining on state names should work, assuming you formatted all your state names identically. Make sure none of your columns (other than state) have identical names. Do yourself a favor and decide if you're encoding participation rates as floats or integers and standardize this across your datasets.\n",
    "\n",
    "Save the contents of this merged dataframe as `final.csv`.\n",
    "\n",
    "**Use this combined dataframe for the remainder of the project**."
   ]
  },
  {
   "cell_type": "code",
   "execution_count": null,
   "metadata": {},
   "outputs": [],
   "source": [
    "final = pd.merge(combined_17, \n",
    "                       combined_18, \n",
    "                       on ='state',\n",
    "                       how='right')\n",
    "\n",
    "final.to_csv('../data/final.csv')"
   ]
  },
  {
   "cell_type": "code",
   "execution_count": null,
   "metadata": {},
   "outputs": [],
   "source": [
    "final.head()"
   ]
  },
  {
   "cell_type": "markdown",
   "metadata": {},
   "source": [
    "## Exploratory Data Analysis\n",
    "\n",
    "\n",
    "### Summary Statistics\n",
    "Transpose the output of pandas `describe` method to create a quick overview of each numeric feature."
   ]
  },
  {
   "cell_type": "code",
   "execution_count": null,
   "metadata": {},
   "outputs": [],
   "source": [
    "#Code:\n",
    "final.describe()"
   ]
  },
  {
   "cell_type": "markdown",
   "metadata": {},
   "source": [
    "#### Manually calculate standard deviation\n",
    "\n",
    "$$\\sigma = \\sqrt{\\frac{1}{n}\\sum_{i=1}^n(x_i - \\mu)^2}$$\n",
    "\n",
    "- Write a function to calculate standard deviation using the formula above"
   ]
  },
  {
   "cell_type": "code",
   "execution_count": null,
   "metadata": {},
   "outputs": [],
   "source": [
    "#code\n",
    "std = 0\n",
    "\n",
    "def standard_deviation(pre_values):\n",
    "\n",
    "    temp_sum = 0\n",
    "    avg_val = sum(pre_values)/len(pre_values)\n",
    "\n",
    "    \n",
    "# a for-loop that subtracts the mean value of a list [sum(pre_values)/len(pre_values)] from every element (num) of a list raised to the 2nd power (**2)\n",
    "    for num in pre_values: \n",
    "        \n",
    "        temp_sum += (num - avg_val )**2 \n",
    "        \n",
    "# then a square root (**0.5) is calculated on the assigned summation value (temp_sum) divided by the total number of values  \n",
    "       \n",
    "        return((temp_sum/(len(pre_values)))**0.5)"
   ]
  },
  {
   "cell_type": "code",
   "execution_count": null,
   "metadata": {},
   "outputs": [],
   "source": [
    "test = [3,2,1]\n",
    "standard_deviation(test)\n"
   ]
  },
  {
   "cell_type": "markdown",
   "metadata": {},
   "source": [
    "- Use a **dictionary comprehension** to apply your standard deviation function to each numeric column in the dataframe.  **No loops**  \n",
    "- Assign the output to variable `sd` as a dictionary where: \n",
    "    - Each column name is now a key \n",
    "    - That standard deviation of the column is the value \n",
    "     \n",
    "*Example Output :* `{'ACT_Math': 120, 'ACT_Reading': 120, ...}`"
   ]
  },
  {
   "cell_type": "code",
   "execution_count": null,
   "metadata": {},
   "outputs": [],
   "source": [
    "#Code: \n",
    "\n",
    "sd = {'sat_math_17' : standard_deviation(sat_17.sat_math_17) for scores in sat_17.sat_math_17}\n",
    "sd"
   ]
  },
  {
   "cell_type": "markdown",
   "metadata": {},
   "source": [
    "Do your manually calculated standard deviations match up with the output from pandas `describe`? What about numpy's `std` method?"
   ]
  },
  {
   "cell_type": "markdown",
   "metadata": {},
   "source": [
    "Answer"
   ]
  },
  {
   "cell_type": "markdown",
   "metadata": {},
   "source": [
    "#### Investigate trends in the data\n",
    "Using sorting and/or masking (along with the `.head` method to not print our entire dataframe), consider the following questions:\n",
    "\n",
    "- Which states have the highest and lowest participation rates for the:\n",
    "    - 2017 SAT?\n",
    "    - 2018 SAT?\n",
    "    - 2017 ACT?\n",
    "    - 2018 ACT?\n",
    "- Which states have the highest and lowest mean total/composite scores for the:\n",
    "    - 2017 SAT?\n",
    "    - 2018 SAT?\n",
    "    - 2017 ACT?\n",
    "    - 2018 ACT?\n",
    "- Do any states with 100% participation on a given test have a rate change year-to-year?\n",
    "- Do any states show have >50% participation on *both* tests either year?\n",
    "\n",
    "Based on what you've just observed, have you identified any states that you're especially interested in? **Make a note of these and state *why* you think they're interesting**.\n",
    "\n",
    "**You should comment on your findings at each step in a markdown cell below your code block**. Make sure you include at least one example of sorting your dataframe by a column, and one example of using boolean filtering (i.e., masking) to select a subset of the dataframe."
   ]
  },
  {
   "cell_type": "code",
   "execution_count": null,
   "metadata": {},
   "outputs": [],
   "source": [
    "# Highest SAT participation Rate 2017\n",
    "final.sort_values(by = ['sat_participation_rate_17'], ascending=False).filter(items = ['state','sat_participation_rate_17']).head(10)"
   ]
  },
  {
   "cell_type": "code",
   "execution_count": null,
   "metadata": {},
   "outputs": [],
   "source": [
    "# Highest SAT participation Rate 2018\n",
    "final.sort_values(by = ['sat_participation_rate_18'], ascending=False).filter(items = ['state','sat_participation_rate_18']).head(10)"
   ]
  },
  {
   "cell_type": "code",
   "execution_count": null,
   "metadata": {},
   "outputs": [],
   "source": [
    "# Highest ACT participation Rate 2017\n",
    "final.sort_values(by = ['act_participation_rate_17'], ascending=False).filter(items = ['state','act_participation_rate_17']).head(10)"
   ]
  },
  {
   "cell_type": "code",
   "execution_count": null,
   "metadata": {},
   "outputs": [],
   "source": [
    "# Highest ACT participation Rate 2018\n",
    "final.sort_values(by = ['act_participation_rate_18'], ascending=False).filter(items = ['state','act_participation_rate_18']).head(10)"
   ]
  },
  {
   "cell_type": "code",
   "execution_count": null,
   "metadata": {},
   "outputs": [],
   "source": [
    "#Using boolean filtering (masking) to check for 2017 data to filter states with SAT & ACT participation above 50%\n",
    "\n",
    "mask = (final['sat_participation_rate_17'] > 50) & (final['act_participation_rate_17'] > 50)\n",
    "final[mask].filter(items = ['state','sat_participation_rate_17','act_participation_rate_17'])"
   ]
  },
  {
   "cell_type": "code",
   "execution_count": null,
   "metadata": {},
   "outputs": [],
   "source": [
    "#Using boolean filtering (masking) to check for 2018 data to filter states with SAT & ACT participation above 50%\n",
    "\n",
    "mask = (final['sat_participation_rate_18'] > 50) & (final['act_participation_rate_18'] > 50)\n",
    "final[mask].filter(items = ['state','sat_participation_rate_18','act_participation_rate_18'])"
   ]
  },
  {
   "cell_type": "markdown",
   "metadata": {},
   "source": [
    "## Visualize the data\n",
    "\n",
    "There's not a magic bullet recommendation for the right number of plots to understand a given dataset, but visualizing your data is *always* a good idea. Not only does it allow you to quickly convey your findings (even if you have a non-technical audience), it will often reveal trends in your data that escaped you when you were looking only at numbers.\n",
    "\n",
    "Some recommendations on plotting:\n",
    "- Plots have titles\n",
    "- Plots have axis labels\n",
    "- Plots have appropriate tick labels\n",
    "- All text is legible in a plot\n",
    "- Plots demonstrate meaningful and valid relationships\n",
    "- Plots are interpreted to aid understanding\n",
    "\n",
    "There is such a thing as too many plots, and there are a *lot* of bad plots. You might make some! (But hopefully not with the guided prompts below)."
   ]
  },
  {
   "cell_type": "markdown",
   "metadata": {},
   "source": [
    "#### Use Seaborn's heatmap with pandas `.corr()` to visualize correlations between all numeric features\n",
    "\n",
    "Heatmaps are generally not appropriate for presentations, and should often be excluded from reports as they can be visually overwhelming. **However**, they can be extremely useful in identify relationships of potential interest (as well as identifying potential collinearity before modeling).\n",
    "\n",
    "*example*:\n",
    "```python\n",
    "sns.heatmap(df.corr())\n",
    "```\n",
    "\n",
    "Please take time to format your output, adding a title. Look through some of the additional arguments and options. (Axis labels aren't really necessary, as long as the title is informative)."
   ]
  },
  {
   "cell_type": "code",
   "execution_count": null,
   "metadata": {},
   "outputs": [],
   "source": [
    "final.corr()"
   ]
  },
  {
   "cell_type": "code",
   "execution_count": null,
   "metadata": {},
   "outputs": [],
   "source": [
    "plt.figure(figsize=(14,14))\n",
    "sns.heatmap(final.corr(), annot=True)"
   ]
  },
  {
   "cell_type": "markdown",
   "metadata": {},
   "source": [
    "#### Define a custom function to subplot histograms\n",
    "\n",
    "We have data for two tests for two years. We only have composite (and not subtest scores) for the 2018 ACT. We should write a function that will take the names of 2+ columns and subplot histograms. While you can use pandas plotting or Seaborn here, matplotlib gives you greater control over all aspects of your plots.\n",
    "\n",
    "[Helpful Link for Plotting Multiple Figures](https://matplotlib.org/users/pyplot_tutorial.html#working-with-multiple-figures-and-axes)\n",
    "\n",
    "Here's some starter code:"
   ]
  },
  {
   "cell_type": "code",
   "execution_count": null,
   "metadata": {},
   "outputs": [],
   "source": [
    "def subplot_histograms(dataframe, list_of_columns, list_of_titles, list_of_xlabels):\n",
    "    nrows = int(np.ceil(len(list_of_columns)/2)) # Makes sure you have enough rows\n",
    "    fig, ax = plt.subplots(nrows=nrows, ncols=2) # You'll want to specify your figsize\n",
    "    ax = ax.ravel() # Ravel turns a matrix into a vector, which is easier to iterate\n",
    "    for i, column in enumerate(list_of_columns): # Gives us an index value to get into all our lists\n",
    "        ax[i].hist(dataframe[column]) # feel free to add more settings\n",
    "        # Set titles, labels, etc here for each subplot"
   ]
  },
  {
   "cell_type": "markdown",
   "metadata": {},
   "source": [
    "#### Plot and interpret histograms \n",
    "For each of the following:\n",
    "- Participation rates for SAT & ACT\n",
    "- Math scores for SAT & ACT\n",
    "- Reading/verbal scores for SAT & ACT"
   ]
  },
  {
   "cell_type": "code",
   "execution_count": null,
   "metadata": {},
   "outputs": [],
   "source": [
    "# Code\n",
    "\n",
    "# Establish figure size.\n",
    "plt.figure(figsize = (12,12))\n",
    "\n",
    "# We can create subplots, which allows us to have multiple subplots in the same plot.\n",
    "# plt.subplot(311) means we have 3 rows, 1 column, and are referencing plot 1.\n",
    "ax1 = plt.subplot(321)\n",
    "ax1.set_title('2017 Participation Rate Comparison')\n",
    "ax1.scatter(final['sat_participation_rate_17'], final['act_participation_rate_17']);\n",
    "plt.ylabel(\"ACT Participation Rate\", fontsize = 10)\n",
    "plt.xlabel(\"SAT Participation Rate\", fontsize = 10);\n",
    "\n",
    "# plt.subplot(312) means we have 3 rows, 1 column, and are referencing plot 2.\n",
    "ax2 = plt.subplot(322)\n",
    "ax2.set_title('2018 Participation Rate Comparison')\n",
    "ax2.scatter(final['sat_participation_rate_18'], final['act_participation_rate_18']);\n",
    "plt.ylabel(\"ACT Participation Rate\", fontsize = 10)\n",
    "plt.xlabel(\"SAT Participation Rate\", fontsize = 10);\n",
    "\n",
    "# plt.subplot(313) means we have 3 rows, 1 column, and are referencing plot 3.\n",
    "ax3 = plt.subplot(313)\n",
    "ax3.set_title('2017 Math Score Comparison')\n",
    "ax3.scatter(final['sat_math_17'], final['act_math_17']);\n",
    "plt.ylabel(\"ACT Math Scores\", fontsize = 10)\n",
    "plt.xlabel(\"SAT Math Scores\", fontsize = 10);\n",
    "\n",
    "ax4 = plt.subplot(324)\n",
    "ax4.set_title('2018 Math Score Comparison')\n",
    "ax4.scatter(final['sat_math_18'], final['act_math_18']);\n",
    "plt.ylabel(\"ACT Math Scores\", fontsize = 10)\n",
    "plt.xlabel(\"SAT Math Scores\", fontsize = 10);\n",
    "\n",
    "# plt.subplot(312) means we have 3 rows, 1 column, and are referencing plot 2.\n",
    "ax2 = plt.subplot(312, sharex=ax1)\n",
    "ax2.set_title('SBUX Low Prices')\n",
    "ax2.hist(stocks[stocks['ticker'] == 'SBUX']['low']);\n",
    "\n",
    "# plt.subplot(313) means we have 3 rows, 1 column, and are referencing plot 3.\n",
    "ax3 = plt.subplot(313, sharex=ax2)\n",
    "ax3.set_title('AAPL Low Prices')\n",
    "ax3.hist(stocks[stocks['ticker'] == 'AAPL']['low']);\n"
   ]
  },
  {
   "cell_type": "code",
   "execution_count": null,
   "metadata": {},
   "outputs": [],
   "source": [
    "plt.figure(figsize=(12,6))\n",
    "ax1 = plt.subplot(121)\n",
    "ax1.set_title('2017 Total SAT Score vs. Participation Rate')\n",
    "ax1.scatter(final['sat_total_17'][5], final['sat_participation_rate_17'][5], label = \"Colorado\");\n",
    "ax1.scatter(final['sat_total_17'][12], final['sat_participation_rate_17'][12], label = \"Illinois\");\n",
    "ax1.scatter(final['sat_total_17'][44], final['sat_participation_rate_17'][44], label = 'Utah');\n",
    ";\n",
    "plt.ylabel(\"SAT Participation Rate (%)\", fontsize = 10)\n",
    "plt.xlabel(\"Total SAT Score\", fontsize = 10);\n",
    "\n",
    "plt.legend(loc = 'upper right');\n",
    "\n",
    "ax2 = plt.subplot(122, sharex=ax1, sharey=ax1)\n",
    "ax2.set_title('2018 Total SAT Score vs. Participation Rate')\n",
    "ax2.scatter(final['sat_total_18'][5], final['sat_participation_rate_18'][5], label = \"Colorado\");\n",
    "ax2.scatter(final['sat_total_18'][12], final['sat_participation_rate_18'][12], label = \"illinois\");\n",
    "ax2.scatter(final['sat_total_18'][44], final['sat_participation_rate_18'][44], label = 'Utah');\n",
    "\n",
    "plt.ylabel(\"SAT Participation Rate (%)\", fontsize = 10)\n",
    "plt.xlabel(\"Total SAT Score\", fontsize = 10);\n",
    "\n",
    "\n",
    "\n",
    "\n",
    "plt.legend(loc = 'upper right');"
   ]
  },
  {
   "cell_type": "markdown",
   "metadata": {},
   "source": [
    "#### Plot and interpret scatter plots\n",
    "\n",
    "For each of the following:\n",
    "- SAT vs. ACT math scores for 2017\n",
    "- SAT vs. ACT verbal/reading scores for 2017\n",
    "- SAT vs. ACT total/composite scores for 2017\n",
    "- Total scores for SAT 2017 vs. 2018\n",
    "- Composite scores for ACT 2017 vs. 2018\n",
    "\n",
    "Plot the two variables against each other using matplotlib or Seaborn\n",
    "\n",
    "Your plots should show:\n",
    "- Two clearly labeled axes\n",
    "- A proper title\n",
    "- Using colors and symbols that are clear and unmistakable\n",
    "\n",
    "**Feel free to write a custom function, and subplot if you'd like.** Functions save both time and space.\n"
   ]
  },
  {
   "cell_type": "code",
   "execution_count": null,
   "metadata": {},
   "outputs": [],
   "source": [
    "# Code"
   ]
  },
  {
   "cell_type": "markdown",
   "metadata": {},
   "source": [
    "#### Plot and interpret boxplots\n",
    "\n",
    "For each numeric variable in the dataframe create a boxplot using Seaborn. Boxplots demonstrate central tendency and spread in variables. In a certain sense, these are somewhat redundant with histograms, but you may be better able to identify clear outliers or differences in IQR, etc.\n",
    "\n",
    "Multiple values can be plotted to a single boxplot as long as they are of the same relative scale (meaning they have similar min/max values).\n",
    "\n",
    "Each boxplot should:\n",
    "- Only include variables of a similar scale\n",
    "- Have clear labels for each variable\n",
    "- Have appropriate titles and labels"
   ]
  },
  {
   "cell_type": "code",
   "execution_count": null,
   "metadata": {},
   "outputs": [],
   "source": [
    "# Code\n",
    "font = {'weight' : 'bold'}\n",
    "plt.figure(figsize=(12,6))\n",
    "sns.boxplot(data = final[['sat_reading_writing_17', 'sat_reading_writing_18','sat_math_17','sat_math_18']], \n",
    "                    palette=\"RdBu\", linewidth = 3, width = 0.5).set(xlabel = 'Average SAT Test Results by Subject / Year',\n",
    "                                            ylabel = 'Score Range', \n",
    "                                            title = '2017 vs 2018 Average SAT Score Comparison by Subject')"
   ]
  },
  {
   "cell_type": "code",
   "execution_count": null,
   "metadata": {},
   "outputs": [],
   "source": [
    "# Code\n",
    "\n",
    "sns.boxplot(data = final[['sat_total_17', 'sat_total_18']], \n",
    "                    palette=\"RdBu\", linewidth = 3, width = 0.5).set(xlabel = 'Average Total SAT Test Results by Year', \n",
    "                                            ylabel = 'Score Range', \n",
    "                                            title = '2017 vs 2018 Average Total SAT Score Comparison')\n"
   ]
  },
  {
   "cell_type": "code",
   "execution_count": null,
   "metadata": {},
   "outputs": [],
   "source": [
    "plt.figure(figsize=(9,6))\n",
    "plt.xlabel(fontsize = 10)\n",
    "sns.boxplot(data = final[final['act_science_17'] > 5][['act_english_17','act_math_17','act_reading_17','act_science_17']], \n",
    "                    palette=\"RdBu\",linewidth = 3, width = 0.5).set(xlabel = 'ACT Scores by Subjects', \n",
    "                                            ylabel = 'Score Range', \n",
    "                                            title = '2017 ACT Subject Tests Comparison')"
   ]
  },
  {
   "cell_type": "code",
   "execution_count": null,
   "metadata": {
    "scrolled": false
   },
   "outputs": [],
   "source": [
    "plt.figure(figsize=(6,6))\n",
    "sns.boxplot(data = final[['act_final_average_17','act_final_average_18']], \n",
    "                    palette=\"RdBu\",linewidth = 3, width = 0.5).set(xlabel = 'ACT Scores by Subjects', \n",
    "                                            ylabel = 'Score Range', \n",
    "                                            title = '2017 ACT Subject Tests Comparison')"
   ]
  },
  {
   "cell_type": "code",
   "execution_count": null,
   "metadata": {
    "scrolled": false
   },
   "outputs": [],
   "source": [
    "plt.figure(figsize=(12,6))\n",
    "boxplot5 = sns.boxplot(data = final[['act_participation_rate_17','act_participation_rate_18','sat_participation_rate_17','sat_participation_rate_18']], \n",
    "                    palette=\"RdBu\",linewidth = 3 ,width = 0.5).set(xlabel = 'ACT Scores by Subjects', \n",
    "                                            ylabel = 'Score Range', \n",
    "                                            title = '2017 ACT Subject Tests Comparison')\n"
   ]
  },
  {
   "cell_type": "markdown",
   "metadata": {},
   "source": [
    "#### Feel free to do additional plots below\n",
    "*(do research and choose your own chart types & variables)*\n",
    "\n",
    "Are there any additional trends or relationships you haven't explored? Was there something interesting you saw that you'd like to dive further into? It's likely that there are a few more plots you might want to generate to support your narrative and recommendations that you are building toward. **As always, make sure you're interpreting your plots as you go**."
   ]
  },
  {
   "cell_type": "code",
   "execution_count": null,
   "metadata": {},
   "outputs": [],
   "source": []
  },
  {
   "cell_type": "markdown",
   "metadata": {},
   "source": [
    "#### (Optional): Using Tableau, create a choropleth map for each variable using a map of the US. \n",
    "\n",
    "Save this plot as an image file in an images directory, provide a relative path, and insert the image into notebook in markdown."
   ]
  },
  {
   "cell_type": "code",
   "execution_count": null,
   "metadata": {},
   "outputs": [],
   "source": []
  },
  {
   "cell_type": "markdown",
   "metadata": {},
   "source": [
    "## Outside Research"
   ]
  },
  {
   "cell_type": "markdown",
   "metadata": {},
   "source": [
    "Based upon your observations, choose **three** states that demonstrate interesting trends in their SAT and/or ACT participation rates. Spend some time doing outside research on state policies that might influence these rates, and summarize your findings below. **Feel free to go back and create new plots that highlight these states of interest**. If you bring in any outside tables or charts, make sure you are explicit about having borrowed them. If you quote any text, make sure that it renders as being quoted. (Make sure that you cite your sources -- check with you local instructor for citation preferences)."
   ]
  },
  {
   "cell_type": "code",
   "execution_count": null,
   "metadata": {},
   "outputs": [],
   "source": []
  },
  {
   "cell_type": "markdown",
   "metadata": {},
   "source": [
    "## Conclusions and Recommendations"
   ]
  },
  {
   "cell_type": "markdown",
   "metadata": {},
   "source": [
    "Based on your exploration of the data, what are you key takeaways and recommendations? Choose one state with a lower participation rate and provide a suggestion for how the College Board might increase participation amongst graduating seniors in this state. Are there additional data you desire that would better inform your investigations?"
   ]
  },
  {
   "cell_type": "code",
   "execution_count": null,
   "metadata": {},
   "outputs": [],
   "source": []
  },
  {
   "cell_type": "markdown",
   "metadata": {},
   "source": [
    "## Bonus: Descriptive and Inferential Statistics"
   ]
  },
  {
   "cell_type": "markdown",
   "metadata": {},
   "source": [
    "#### Summarizing Distributions\n",
    "\n",
    "Above, we used pandas `describe` to provide quick summary statistics of our numeric columns. We also demonstrated many visual relationships.\n",
    "\n",
    "As data scientists, having a complete understanding of data is imperative prior to modeling.\n",
    "\n",
    "While we will continue to build our analytic tools, we know that measures of *central tendency*, *spread*, and *shape/skewness* provide a quick summary of distributions.\n",
    "\n",
    "For each variable in your data, summarize the underlying distributions (in words & statistics)\n",
    " - Be thorough in your verbal description of these distributions.\n",
    " - Be sure to back up these summaries with statistics."
   ]
  },
  {
   "cell_type": "markdown",
   "metadata": {},
   "source": [
    "Answers:"
   ]
  },
  {
   "cell_type": "markdown",
   "metadata": {},
   "source": [
    "#### We generally assuming that data we sample from a population will be normally distributed. Do we observe this trend?"
   ]
  },
  {
   "cell_type": "markdown",
   "metadata": {},
   "source": [
    "Answer:"
   ]
  },
  {
   "cell_type": "markdown",
   "metadata": {},
   "source": [
    "Does This Assumption Hold for:\n",
    "    - Math\n",
    "    - Reading\n",
    "    - Rates\n",
    "Explain your answers for each distribution and how you think this will affect estimates made from these data."
   ]
  },
  {
   "cell_type": "markdown",
   "metadata": {},
   "source": [
    "Answer:"
   ]
  },
  {
   "cell_type": "markdown",
   "metadata": {},
   "source": [
    "#### Estimate Limits of Data\n",
    "\n",
    "Suppose we only seek to understand the relationship between SAT and ACT participation rates in 2017. \n",
    "\n",
    "##### Does it make sense to conduct statistical inference given these data specifically? \n",
    "\n",
    "Why or why not?\n",
    "\n",
    "*(think about granularity, aggregation, the relationships between populations size & rates...consider the actually populations these data describe in answering this question)*"
   ]
  },
  {
   "cell_type": "markdown",
   "metadata": {},
   "source": [
    "Answer:"
   ]
  },
  {
   "cell_type": "markdown",
   "metadata": {},
   "source": [
    "##### Is it appropriate to compare *these* specific SAT and ACT math scores? \n",
    "\n",
    "Why or why not?"
   ]
  },
  {
   "cell_type": "markdown",
   "metadata": {},
   "source": [
    "Answer:"
   ]
  },
  {
   "cell_type": "markdown",
   "metadata": {},
   "source": [
    "#### Statistical Evaluation of Distributions \n",
    "\n",
    "**If you feel it's appropriate**, using methods we discussed in class, run hypothesis tests to compare variables of interest in our dataset. "
   ]
  },
  {
   "cell_type": "code",
   "execution_count": null,
   "metadata": {},
   "outputs": [],
   "source": [
    "# Code:"
   ]
  }
 ],
 "metadata": {
  "anaconda-cloud": {},
  "kernelspec": {
   "display_name": "Python 3",
   "language": "python",
   "name": "python3"
  },
  "language_info": {
   "codemirror_mode": {
    "name": "ipython",
    "version": 3
   },
   "file_extension": ".py",
   "mimetype": "text/x-python",
   "name": "python",
   "nbconvert_exporter": "python",
   "pygments_lexer": "ipython3",
   "version": "3.7.4"
  }
 },
 "nbformat": 4,
 "nbformat_minor": 2
}
